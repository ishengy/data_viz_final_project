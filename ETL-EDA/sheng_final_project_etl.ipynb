{
 "cells": [
  {
   "cell_type": "code",
   "execution_count": 1,
   "metadata": {},
   "outputs": [],
   "source": [
    "import pandas as pd\n",
    "from IPython.core.display import HTML\n",
    "pd.options.mode.chained_assignment = None  # default='warn'"
   ]
  },
  {
   "cell_type": "code",
   "execution_count": 2,
   "metadata": {},
   "outputs": [
    {
     "name": "stderr",
     "output_type": "stream",
     "text": [
      "C:\\Users\\ishengy\\anaconda3\\lib\\site-packages\\IPython\\core\\interactiveshell.py:3071: DtypeWarning: Columns (5) have mixed types.Specify dtype option on import or set low_memory=False.\n",
      "  has_raised = await self.run_ast_nodes(code_ast.body, cell_name,\n"
     ]
    }
   ],
   "source": [
    "all_league = pd.read_csv(r'D:/Documents/sheng_final_project/Visualization/ETL-EDA/2020_LoL_esports_match_data_from_OraclesElixir_20201124.csv')\n",
    "lcs = all_league[all_league.league == 'LCS']"
   ]
  },
  {
   "cell_type": "code",
   "execution_count": 3,
   "metadata": {},
   "outputs": [],
   "source": [
    "lcs = lcs.astype({\"year\": str, \n",
    "                 \"playoffs\": bool, \n",
    "                 \"game\": str, \n",
    "                 \"patch\": str, \n",
    "                 \"playerid\": str,\n",
    "                 \"result\": bool,\n",
    "                 \"firstdragon\": bool,\n",
    "                 \"firstherald\": bool,\n",
    "                 \"firstbaron\": bool,\n",
    "                 \"firstmidtower\": bool,\n",
    "                 \"firsttothreetowers\": bool,\n",
    "                 \"firsttower\": bool,\n",
    "                 \"firstblood\": bool,\n",
    "                 \"firstbloodassist\": bool,\n",
    "                 \"firstbloodkill\": bool,\n",
    "                 \"firstbloodvictim\": bool})"
   ]
  },
  {
   "cell_type": "code",
   "execution_count": 4,
   "metadata": {},
   "outputs": [
    {
     "data": {
      "text/html": [
       "<div>\n",
       "<style scoped>\n",
       "    .dataframe tbody tr th:only-of-type {\n",
       "        vertical-align: middle;\n",
       "    }\n",
       "\n",
       "    .dataframe tbody tr th {\n",
       "        vertical-align: top;\n",
       "    }\n",
       "\n",
       "    .dataframe thead th {\n",
       "        text-align: right;\n",
       "    }\n",
       "</style>\n",
       "<table border=\"1\" class=\"dataframe\">\n",
       "  <thead>\n",
       "    <tr style=\"text-align: right;\">\n",
       "      <th></th>\n",
       "      <th>mean</th>\n",
       "      <th>std</th>\n",
       "      <th>min</th>\n",
       "      <th>25%</th>\n",
       "      <th>50%</th>\n",
       "      <th>75%</th>\n",
       "      <th>max</th>\n",
       "    </tr>\n",
       "  </thead>\n",
       "  <tbody>\n",
       "    <tr>\n",
       "      <th>gamelength</th>\n",
       "      <td>2062.306818</td>\n",
       "      <td>388.440423</td>\n",
       "      <td>1337.0</td>\n",
       "      <td>1793.25</td>\n",
       "      <td>1988.5</td>\n",
       "      <td>2292.25</td>\n",
       "      <td>3680.0</td>\n",
       "    </tr>\n",
       "    <tr>\n",
       "      <th>kills</th>\n",
       "      <td>3.799874</td>\n",
       "      <td>4.701951</td>\n",
       "      <td>0.0</td>\n",
       "      <td>1.00</td>\n",
       "      <td>2.0</td>\n",
       "      <td>5.00</td>\n",
       "      <td>30.0</td>\n",
       "    </tr>\n",
       "    <tr>\n",
       "      <th>deaths</th>\n",
       "      <td>3.803030</td>\n",
       "      <td>4.513989</td>\n",
       "      <td>0.0</td>\n",
       "      <td>1.00</td>\n",
       "      <td>2.5</td>\n",
       "      <td>4.00</td>\n",
       "      <td>30.0</td>\n",
       "    </tr>\n",
       "    <tr>\n",
       "      <th>assists</th>\n",
       "      <td>9.107323</td>\n",
       "      <td>11.105225</td>\n",
       "      <td>0.0</td>\n",
       "      <td>3.00</td>\n",
       "      <td>6.0</td>\n",
       "      <td>10.00</td>\n",
       "      <td>86.0</td>\n",
       "    </tr>\n",
       "    <tr>\n",
       "      <th>teamkills</th>\n",
       "      <td>11.399621</td>\n",
       "      <td>6.139009</td>\n",
       "      <td>0.0</td>\n",
       "      <td>6.00</td>\n",
       "      <td>11.0</td>\n",
       "      <td>16.00</td>\n",
       "      <td>30.0</td>\n",
       "    </tr>\n",
       "    <tr>\n",
       "      <th>...</th>\n",
       "      <td>...</td>\n",
       "      <td>...</td>\n",
       "      <td>...</td>\n",
       "      <td>...</td>\n",
       "      <td>...</td>\n",
       "      <td>...</td>\n",
       "      <td>...</td>\n",
       "    </tr>\n",
       "    <tr>\n",
       "      <th>opp_xpat15</th>\n",
       "      <td>9687.400253</td>\n",
       "      <td>8786.186100</td>\n",
       "      <td>2681.0</td>\n",
       "      <td>4889.00</td>\n",
       "      <td>6321.5</td>\n",
       "      <td>7720.25</td>\n",
       "      <td>33530.0</td>\n",
       "    </tr>\n",
       "    <tr>\n",
       "      <th>opp_csat15</th>\n",
       "      <td>169.661616</td>\n",
       "      <td>158.045564</td>\n",
       "      <td>0.0</td>\n",
       "      <td>90.00</td>\n",
       "      <td>126.0</td>\n",
       "      <td>149.00</td>\n",
       "      <td>594.0</td>\n",
       "    </tr>\n",
       "    <tr>\n",
       "      <th>golddiffat15</th>\n",
       "      <td>0.000000</td>\n",
       "      <td>1278.069747</td>\n",
       "      <td>-7782.0</td>\n",
       "      <td>-560.00</td>\n",
       "      <td>0.0</td>\n",
       "      <td>560.00</td>\n",
       "      <td>7782.0</td>\n",
       "    </tr>\n",
       "    <tr>\n",
       "      <th>xpdiffat15</th>\n",
       "      <td>0.000000</td>\n",
       "      <td>974.875182</td>\n",
       "      <td>-5909.0</td>\n",
       "      <td>-497.50</td>\n",
       "      <td>0.0</td>\n",
       "      <td>497.50</td>\n",
       "      <td>5909.0</td>\n",
       "    </tr>\n",
       "    <tr>\n",
       "      <th>csdiffat15</th>\n",
       "      <td>0.000000</td>\n",
       "      <td>21.701538</td>\n",
       "      <td>-114.0</td>\n",
       "      <td>-11.00</td>\n",
       "      <td>0.0</td>\n",
       "      <td>11.00</td>\n",
       "      <td>114.0</td>\n",
       "    </tr>\n",
       "  </tbody>\n",
       "</table>\n",
       "<p>73 rows × 7 columns</p>\n",
       "</div>"
      ],
      "text/plain": [
       "                     mean          std     min      25%     50%      75%  \\\n",
       "gamelength    2062.306818   388.440423  1337.0  1793.25  1988.5  2292.25   \n",
       "kills            3.799874     4.701951     0.0     1.00     2.0     5.00   \n",
       "deaths           3.803030     4.513989     0.0     1.00     2.5     4.00   \n",
       "assists          9.107323    11.105225     0.0     3.00     6.0    10.00   \n",
       "teamkills       11.399621     6.139009     0.0     6.00    11.0    16.00   \n",
       "...                   ...          ...     ...      ...     ...      ...   \n",
       "opp_xpat15    9687.400253  8786.186100  2681.0  4889.00  6321.5  7720.25   \n",
       "opp_csat15     169.661616   158.045564     0.0    90.00   126.0   149.00   \n",
       "golddiffat15     0.000000  1278.069747 -7782.0  -560.00     0.0   560.00   \n",
       "xpdiffat15       0.000000   974.875182 -5909.0  -497.50     0.0   497.50   \n",
       "csdiffat15       0.000000    21.701538  -114.0   -11.00     0.0    11.00   \n",
       "\n",
       "                  max  \n",
       "gamelength     3680.0  \n",
       "kills            30.0  \n",
       "deaths           30.0  \n",
       "assists          86.0  \n",
       "teamkills        30.0  \n",
       "...               ...  \n",
       "opp_xpat15    33530.0  \n",
       "opp_csat15      594.0  \n",
       "golddiffat15   7782.0  \n",
       "xpdiffat15     5909.0  \n",
       "csdiffat15      114.0  \n",
       "\n",
       "[73 rows x 7 columns]"
      ]
     },
     "metadata": {},
     "output_type": "display_data"
    }
   ],
   "source": [
    "descript = lcs.describe().T.drop('count',axis=1)\n",
    "display(descript)\n",
    "#descript.to_excel('descript.xlsx')"
   ]
  },
  {
   "cell_type": "code",
   "execution_count": 5,
   "metadata": {},
   "outputs": [
    {
     "name": "stdout",
     "output_type": "stream",
     "text": [
      "gameid               object\n",
      "datacompleteness     object\n",
      "url                  object\n",
      "league               object\n",
      "year                 object\n",
      "                     ...   \n",
      "opp_xpat15          float64\n",
      "opp_csat15          float64\n",
      "golddiffat15        float64\n",
      "xpdiffat15          float64\n",
      "csdiffat15          float64\n",
      "Length: 105, dtype: object\n"
     ]
    }
   ],
   "source": [
    "data_type = lcs.dtypes\n",
    "print(data_type)"
   ]
  },
  {
   "cell_type": "code",
   "execution_count": 6,
   "metadata": {},
   "outputs": [
    {
     "data": {
      "text/plain": [
       "dragons (type unknown)    99.684343\n",
       "opp_elders                83.648990\n",
       "opp_elementaldrakes       83.648990\n",
       "infernals                 83.648990\n",
       "mountains                 83.648990\n",
       "clouds                    83.648990\n",
       "oceans                    83.648990\n",
       "elders                    83.648990\n",
       "elementaldrakes           83.648990\n",
       "opp_dragons               83.333333\n",
       "opp_heralds               83.333333\n",
       "barons                    83.333333\n",
       "gspd                      83.333333\n",
       "opp_barons                83.333333\n",
       "towers                    83.333333\n",
       "opp_towers                83.333333\n",
       "dragons                   83.333333\n",
       "heralds                   83.333333\n",
       "champion                  16.666667\n",
       "total cs                  16.666667\n",
       "damageshare               16.666667\n",
       "earnedgoldshare           16.666667\n",
       "player                    16.666667\n",
       "ban5                       0.378788\n",
       "ban3                       0.189394\n",
       "dtype: float64"
      ]
     },
     "metadata": {},
     "output_type": "display_data"
    }
   ],
   "source": [
    "lcs_percent_missing = lcs.isnull().sum() * 100 / len(lcs)\n",
    "lcs_percent_missing = lcs_percent_missing[lcs_percent_missing!=0]\n",
    "display(lcs_percent_missing.sort_values(ascending = False))"
   ]
  },
  {
   "cell_type": "markdown",
   "metadata": {},
   "source": [
    "## Explanation of Missing Data and Solutions:\n",
    "\n",
    "**Explanation:** 0.38% of ban5 and 0.19% of ban3 are missing because of penalties or timeouts: Teams only have 2 rounds of 30 seconds each to ban out certain champions. Ban3 occurs in the first round of bans and ban5 occurs in the second round of bans. Teams can be penalized with a loss of ban for violations such as not following code of conduct.\n",
    "\n",
    "**Solution:** Fill in missing data with \"None\""
   ]
  },
  {
   "cell_type": "code",
   "execution_count": 7,
   "metadata": {},
   "outputs": [],
   "source": [
    "lcs.fillna({'ban3': 'None', 'ban5': 'None'}, inplace=True)"
   ]
  },
  {
   "cell_type": "markdown",
   "metadata": {},
   "source": [
    "**Explanation:** 99.68% of Dragons (type unknown) is missing. Looking at the dataset, this variable is only filled in when the dragon-type columns Infernals, Mountains, Clouds, Oceans, Elders are empty. This could be an error in data collection from the tournament realm since all dragon-types are visible by nature of the game. The occurance is also only about 0.32%.\n",
    "\n",
    "**Solution:** Unfortunately, because the data wasn't properly collected, there is no way to split \"Dragons (Type Unknown)\" between \"elementaldrakes\" and \"opp_elementaldrakes\" (aka: team dragons versus opponent dragons). \"dragons\" and \"Opp_dragons\" are suitable replacements. In order to keep the datatype consistent throughout the columns, the data will be filled in as 0, but the rows will be filtered out in the visualization when looking at individual elemental dragon objectives since the rest of the data is still required."
   ]
  },
  {
   "cell_type": "code",
   "execution_count": 8,
   "metadata": {},
   "outputs": [],
   "source": [
    "lcs.fillna({'elementaldrakes': 0,\n",
    "            'opp_elementaldrakes': 0, \n",
    "            'opp_elementaldrakes': 0,\n",
    "            'infernals': 0,\n",
    "            'mountains': 0, \n",
    "            'clouds': 0, \n",
    "            'oceans': 0, \n",
    "            'elders': 0, \n",
    "            'opp_elders': 0}, inplace=True)"
   ]
  },
  {
   "cell_type": "markdown",
   "metadata": {},
   "source": [
    "**Explanation:** 16.67% of the data is missing Player name - this is probably because the data includes aggregated team statistics as well, which are null in the Player column. The other stats that are also missing 16.67% of the data are only available on a team-level granularity, not on a smaller player-level granularity. Similarly, variables such as dragons, heralds, towers, and other map objects are missing 83.33% of the the data. This data is only available on a Player-level granularity, not on a higher team-level granularity. As was previously noted, approximately 0.32% of the missing data is contributed by the Dragons (Type Unknown) error.\n",
    "\n",
    "**Solution:** Because of expected interchangable use-cases, the player and team data will remain as one dataset since *Team* data can be filtered out on *position != 'team'*. "
   ]
  },
  {
   "cell_type": "markdown",
   "metadata": {},
   "source": [
    "## Final Dataset Status:"
   ]
  },
  {
   "cell_type": "code",
   "execution_count": 9,
   "metadata": {},
   "outputs": [
    {
     "data": {
      "text/plain": [
       "dragons (type unknown)    99.684343\n",
       "gspd                      83.333333\n",
       "opp_towers                83.333333\n",
       "towers                    83.333333\n",
       "opp_barons                83.333333\n",
       "barons                    83.333333\n",
       "opp_heralds               83.333333\n",
       "heralds                   83.333333\n",
       "opp_dragons               83.333333\n",
       "dragons                   83.333333\n",
       "total cs                  16.666667\n",
       "earnedgoldshare           16.666667\n",
       "damageshare               16.666667\n",
       "champion                  16.666667\n",
       "player                    16.666667\n",
       "dtype: float64"
      ]
     },
     "metadata": {},
     "output_type": "display_data"
    }
   ],
   "source": [
    "player_percent_missing = lcs.isnull().sum() * 100 / len(lcs)\n",
    "player_percent_missing = player_percent_missing[player_percent_missing!=0]\n",
    "display(player_percent_missing.sort_values(ascending = False))"
   ]
  },
  {
   "cell_type": "markdown",
   "metadata": {},
   "source": [
    "## Output Dataset"
   ]
  },
  {
   "cell_type": "code",
   "execution_count": 10,
   "metadata": {},
   "outputs": [],
   "source": [
    "lcs.to_excel(r'D:/Documents/sheng_final_project/Visualization/ETL-EDA/lcs_dataset.xlsx', sheet_name='data', index = False)"
   ]
  },
  {
   "cell_type": "markdown",
   "metadata": {},
   "source": [
    "## Note on Additional ETL in Tableau:\n",
    "Table was created based on output to pivot data for team bans 1-5 within Tableau"
   ]
  }
 ],
 "metadata": {
  "kernelspec": {
   "display_name": "Python 3",
   "language": "python",
   "name": "python3"
  },
  "language_info": {
   "codemirror_mode": {
    "name": "ipython",
    "version": 3
   },
   "file_extension": ".py",
   "mimetype": "text/x-python",
   "name": "python",
   "nbconvert_exporter": "python",
   "pygments_lexer": "ipython3",
   "version": "3.8.3"
  }
 },
 "nbformat": 4,
 "nbformat_minor": 4
}
